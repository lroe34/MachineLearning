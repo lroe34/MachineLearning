{
 "cells": [
  {
   "cell_type": "code",
   "execution_count": 301,
   "metadata": {},
   "outputs": [],
   "source": [
    "import numpy as np\n",
    "import pandas as pd\n",
    "import matplotlib.pyplot as plt\n",
    "from sklearn.model_selection import train_test_split\n",
    "\n",
    "from sklearn.preprocessing import StandardScaler, MinMaxScaler, RobustScaler, MaxAbsScaler\n",
    "\n",
    "from sklearn.metrics import confusion_matrix\n",
    "from sklearn.model_selection import KFold\n",
    "from sklearn.neighbors import KNeighborsClassifier\n",
    "from sklearn.cluster import KMeans\n",
    "from sklearn.utils import shuffle\n",
    "from sklearn.metrics import roc_curve, auc\n",
    "from sklearn.metrics import average_precision_score, accuracy_score\n",
    "from scipy.stats import mode"
   ]
  },
  {
   "cell_type": "code",
   "execution_count": 329,
   "metadata": {},
   "outputs": [],
   "source": [
    "data = pd.read_csv('credit_data_simulate.csv')"
   ]
  },
  {
   "cell_type": "code",
   "execution_count": 330,
   "metadata": {},
   "outputs": [],
   "source": [
    "class CreditData:\n",
    "    def __init__(self, data):\n",
    "        self.data = data\n",
    "\n",
    "    def split_data(self, test_size=0.2):\n",
    "        return train_test_split(self.data, test_size=test_size)\n",
    "\n",
    "    def k_fold(self, k=10):\n",
    "        self.data = shuffle(self.data)\n",
    "        \n",
    "        X = self.data.iloc[:, :-1].values\n",
    "        y = self.data.iloc[:, -1].values\n",
    "        kf = KFold(n_splits=k, shuffle=False)\n",
    "        folds = []\n",
    "        for train_index, test_index in kf.split(X):\n",
    "            X_train, X_test = X[train_index], X[test_index]\n",
    "            y_train, y_test = y[train_index], y[test_index]\n",
    "            folds.append(((X_train, y_train), (X_test, y_test)))\n",
    "        return folds\n",
    "        \n",
    "    def normalize(self, scaler):\n",
    "        X = self.data.iloc[:, 0:-1]\n",
    "        y = self.data.iloc[:, -1]\n",
    "        X = scaler.fit_transform(X)\n",
    "        return X, y\n",
    "    \n",
    "    def knn(self, X_train, y_train, X_test, y_test, k=5, metric='minkowski'):\n",
    "        knn = KNeighborsClassifier(n_neighbors=k, metric=metric, p=2)\n",
    "        if metric == 'seuclidean':\n",
    "            V = np.var(X_train, axis=0)\n",
    "            knn = KNeighborsClassifier(n_neighbors=k, metric=metric, metric_params={'V': V})\n",
    "        knn.fit(X_train, y_train)\n",
    "        y_pred = knn.predict(X_test)\n",
    "        y_pred_proba = knn.predict_proba(X_test)[:, 1]  # Get probabilities for the positive class\n",
    "        cm = confusion_matrix(y_test, y_pred)\n",
    "        return cm, y_pred_proba\n",
    "\n",
    "    def plot_confusion_matrix(self, cm):\n",
    "        plt.imshow(cm, interpolation='nearest', cmap=plt.cm.Blues)\n",
    "        plt.title('Confusion matrix')\n",
    "        plt.colorbar()\n",
    "        plt.show()\n",
    "    \n",
    "    def get_metrics(self, y_test, y_pred_proba, cm):\n",
    "        tn, fp, fn, tp = cm.ravel()\n",
    "        accuracy = (tp + tn) / (tp + tn + fp + fn)\n",
    "        precision = tp / (tp + fp)\n",
    "        recall = tp / (tp + fn)\n",
    "        f1 = 2 * (precision * recall) / (precision + recall)\n",
    "        fpr, tpr, thresholds = roc_curve(y_test, y_pred_proba)\n",
    "        roc_auc = auc(fpr, tpr)\n",
    "        auprc = average_precision_score(y_test, y_pred_proba)\n",
    "        d_index = np.log2(1+accuracy) + np.log2(1 + ((recall + precision)/2))\n",
    "        return [accuracy, precision, recall, f1, d_index, roc_auc, fpr, tpr, auprc]\n",
    "\n"
   ]
  },
  {
   "cell_type": "code",
   "execution_count": null,
   "metadata": {},
   "outputs": [],
   "source": [
    "credit_data = CreditData(data)\n",
    "folds = credit_data.k_fold(k=10)\n",
    "scalers = [StandardScaler(), MinMaxScaler(), RobustScaler(), MaxAbsScaler()]\n",
    "for scaler in scalers:\n",
    "    print(scaler)\n",
    "    for fold in folds:\n",
    "        (X_train, y_train), (X_test, y_test) = fold\n",
    "        X_train_scaled = scaler.fit_transform(X_train)\n",
    "        X_test_scaled = scaler.transform(X_test)\n",
    "        cm, y_pred_proba = credit_data.knn(X_train_scaled, y_train, X_test_scaled, y_test, k=5, metric='seuclidean')\n",
    "        credit_data.plot_confusion_matrix(cm)\n",
    "        metrics = credit_data.get_metrics(y_test, y_pred_proba, cm)\n",
    "        print(\"accuracy:\", metrics[0])\n",
    "        print(\"precision:\", metrics[1])\n",
    "        print(\"recall:\", metrics[2])\n",
    "        print(\"f1:\", metrics[3])\n",
    "        print(\"d_index:\", metrics[4])\n",
    "        print(\"roc_auc:\", metrics[5])\n",
    "        print(\"auprc:\", metrics[8])\n",
    "        plt.plot(metrics[6], metrics[7])\n",
    "        plt.show()\n"
   ]
  },
  {
   "cell_type": "code",
   "execution_count": 273,
   "metadata": {},
   "outputs": [],
   "source": [
    "# import data and clean by removing all rows with missing values\n",
    "data = pd.read_csv('PM2.5_Beijing_2010_2014.csv')\n",
    "data = data.dropna()\n",
    "\n",
    "#  save as clean_pm2.5_data.csv\n",
    "data.to_csv('clean_pm2.5_data.csv', index=False)"
   ]
  },
  {
   "cell_type": "code",
   "execution_count": 274,
   "metadata": {},
   "outputs": [],
   "source": [
    "# convert cbwd column to numerical values\n",
    "data = pd.read_csv('clean_pm2.5_data.csv')\n",
    "data['cbwd'] = data['cbwd'].astype('category')\n",
    "data['cbwd'] = data['cbwd'].cat.codes\n",
    "data = data.drop(columns=['No', 'Is', 'Ir'])\n",
    "data['target'] = pd.qcut(data['pm2.5'], q=3, labels=['low', 'medium', 'high'])\n",
    "data = data.drop(columns=['pm2.5'])\n",
    "data.to_csv('clean_pm2.5_data.csv', index=False)\n",
    "\n"
   ]
  },
  {
   "cell_type": "code",
   "execution_count": 275,
   "metadata": {},
   "outputs": [],
   "source": [
    "data = pd.read_csv('clean_pm2.5_data.csv')\n",
    "\n",
    "data_year = data.groupby('year')\n",
    "data_2010 = data_year.get_group(2010)\n",
    "data_2011 = data_year.get_group(2011)\n",
    "data_2012 = data_year.get_group(2012)\n",
    "data_2013 = data_year.get_group(2013)\n",
    "data_2014 = data_year.get_group(2014)\n",
    "\n",
    "data_2010_y = data_2010['target']\n",
    "data_2011_y = data_2011['target']\n",
    "data_2012_y = data_2012['target']\n",
    "data_2013_y = data_2013['target']\n",
    "data_2014_y = data_2014['target']\n",
    "\n",
    "data_2010_X = data_2010.drop(columns=['year', 'target'])\n",
    "data_2011_X = data_2011.drop(columns=['year', 'target'])\n",
    "data_2012_X = data_2012.drop(columns=['year', 'target'])\n",
    "data_2013_X = data_2013.drop(columns=['year', 'target'])\n",
    "data_2014_X = data_2014.drop(columns=['year', 'target'])"
   ]
  },
  {
   "cell_type": "code",
   "execution_count": 276,
   "metadata": {},
   "outputs": [],
   "source": [
    "#  scale data\n",
    "scaler = MinMaxScaler()\n",
    "data_2010 = scaler.fit_transform(data_2010_X)\n",
    "data_2011 = scaler.fit_transform(data_2011_X)\n",
    "data_2012 = scaler.fit_transform(data_2012_X)\n",
    "data_2013 = scaler.fit_transform(data_2013_X)\n",
    "data_2014 = scaler.fit_transform(data_2014_X)"
   ]
  },
  {
   "cell_type": "code",
   "execution_count": 277,
   "metadata": {},
   "outputs": [],
   "source": [
    "\n",
    "columns = ['month', 'day', 'hour', 'DEWP', 'TEMP', 'PRES', 'cbwd', 'Iws']\n",
    "data_2010 = pd.DataFrame(data_2010, columns=columns)\n",
    "data_2011 = pd.DataFrame(data_2011, columns=columns)\n",
    "data_2012 = pd.DataFrame(data_2012, columns=columns)\n",
    "data_2013 = pd.DataFrame(data_2013, columns=columns)\n",
    "data_2014 = pd.DataFrame(data_2014, columns=columns)\n"
   ]
  },
  {
   "cell_type": "code",
   "execution_count": 278,
   "metadata": {},
   "outputs": [],
   "source": [
    "# write to new file\n",
    "with open('data_2010.csv', 'w') as f:\n",
    "    data_2010.to_csv(f, index=False)\n",
    "with open('data_2011.csv', 'w') as f:\n",
    "    data_2011.to_csv(f, index=False)\n",
    "with open('data_2012.csv', 'w') as f:\n",
    "    data_2012.to_csv(f, index=False)\n",
    "with open('data_2013.csv', 'w') as f:\n",
    "    data_2013.to_csv(f, index=False)\n",
    "with open('data_2014.csv', 'w') as f:\n",
    "    data_2014.to_csv(f, index=False)"
   ]
  },
  {
   "cell_type": "code",
   "execution_count": 279,
   "metadata": {},
   "outputs": [],
   "source": [
    "data_2010_X = data_2010_X.values\n",
    "data_2011_X = data_2011_X.values\n",
    "data_2012_X = data_2012_X.values\n",
    "data_2013_X = data_2013_X.values\n",
    "data_2014_X = data_2014_X.values"
   ]
  },
  {
   "cell_type": "code",
   "execution_count": 292,
   "metadata": {},
   "outputs": [],
   "source": [
    "def resolve_masking(y_pred, y_true):\n",
    "    pred_labels = np.zeros_like(y_true)\n",
    "    for i in range(len(np.unique(y_pred))):\n",
    "        mask = (y_pred == i)\n",
    "        pred_labels[mask] = mode(y_true[mask])[0]\n",
    "    return pred_labels"
   ]
  },
  {
   "cell_type": "code",
   "execution_count": 296,
   "metadata": {},
   "outputs": [],
   "source": [
    "def do_kmeans(X, y):\n",
    "    # turn y into 0, 1, 2\n",
    "    y = y.astype('category')\n",
    "    y_numeric = y.cat.codes\n",
    "    kmeans = KMeans(n_clusters=2, random_state=0).fit(X)\n",
    "    y_pred = kmeans.predict(X)\n",
    "    y_pred = resolve_masking(y_pred, y_numeric)\n",
    "    accuracy = accuracy_score(y_numeric, y_pred)\n",
    "    return y_numeric, y_pred, accuracy\n",
    "\n"
   ]
  },
  {
   "cell_type": "code",
   "execution_count": 294,
   "metadata": {},
   "outputs": [],
   "source": [
    "# plot the clusters\n",
    "def plot_clusters(X, y, kmeans):\n",
    "    y = y.astype('category')\n",
    "    y_numeric = y.cat.codes\n",
    "\n",
    "    plt.scatter(X[:, 0], X[:, 1], c=y_numeric)\n",
    "    plt.scatter(kmeans.cluster_centers_[:, 0], kmeans.cluster_centers_[:, 1], s=300, c='red')\n",
    "    plt.show()"
   ]
  },
  {
   "cell_type": "code",
   "execution_count": 327,
   "metadata": {},
   "outputs": [
    {
     "name": "stdout",
     "output_type": "stream",
     "text": [
      "0.41947843282659747\n",
      "0.3930527888446215\n",
      "0.37371910789632307\n",
      "0.3733579165706384\n",
      "0.3747835122965016\n"
     ]
    },
    {
     "name": "stderr",
     "output_type": "stream",
     "text": [
      "/var/folders/wk/t_9r39tx0s99sqy0hfqfvzym0000gn/T/ipykernel_61521/3256086368.py:5: FutureWarning: Unlike other reduction functions (e.g. `skew`, `kurtosis`), the default behavior of `mode` typically preserves the axis it acts along. In SciPy 1.11.0, this behavior will change: the default value of `keepdims` will become False, the `axis` over which the statistic is taken will be eliminated, and the value None will no longer be accepted. Set `keepdims` to True or False to avoid this warning.\n",
      "  pred_labels[mask] = mode(y_true[mask])[0]\n",
      "/var/folders/wk/t_9r39tx0s99sqy0hfqfvzym0000gn/T/ipykernel_61521/3256086368.py:5: FutureWarning: Unlike other reduction functions (e.g. `skew`, `kurtosis`), the default behavior of `mode` typically preserves the axis it acts along. In SciPy 1.11.0, this behavior will change: the default value of `keepdims` will become False, the `axis` over which the statistic is taken will be eliminated, and the value None will no longer be accepted. Set `keepdims` to True or False to avoid this warning.\n",
      "  pred_labels[mask] = mode(y_true[mask])[0]\n",
      "/var/folders/wk/t_9r39tx0s99sqy0hfqfvzym0000gn/T/ipykernel_61521/3256086368.py:5: FutureWarning: Unlike other reduction functions (e.g. `skew`, `kurtosis`), the default behavior of `mode` typically preserves the axis it acts along. In SciPy 1.11.0, this behavior will change: the default value of `keepdims` will become False, the `axis` over which the statistic is taken will be eliminated, and the value None will no longer be accepted. Set `keepdims` to True or False to avoid this warning.\n",
      "  pred_labels[mask] = mode(y_true[mask])[0]\n",
      "/var/folders/wk/t_9r39tx0s99sqy0hfqfvzym0000gn/T/ipykernel_61521/3256086368.py:5: FutureWarning: Unlike other reduction functions (e.g. `skew`, `kurtosis`), the default behavior of `mode` typically preserves the axis it acts along. In SciPy 1.11.0, this behavior will change: the default value of `keepdims` will become False, the `axis` over which the statistic is taken will be eliminated, and the value None will no longer be accepted. Set `keepdims` to True or False to avoid this warning.\n",
      "  pred_labels[mask] = mode(y_true[mask])[0]\n",
      "/var/folders/wk/t_9r39tx0s99sqy0hfqfvzym0000gn/T/ipykernel_61521/3256086368.py:5: FutureWarning: Unlike other reduction functions (e.g. `skew`, `kurtosis`), the default behavior of `mode` typically preserves the axis it acts along. In SciPy 1.11.0, this behavior will change: the default value of `keepdims` will become False, the `axis` over which the statistic is taken will be eliminated, and the value None will no longer be accepted. Set `keepdims` to True or False to avoid this warning.\n",
      "  pred_labels[mask] = mode(y_true[mask])[0]\n"
     ]
    }
   ],
   "source": [
    "y, y_pred, accuracy = do_kmeans(data_2010_X, data_2010_y)\n",
    "print(accuracy)\n",
    "\n",
    "y, y_pred, accuracy = do_kmeans(data_2011_X, data_2011_y)\n",
    "print(accuracy)\n",
    "\n",
    "y, y_pred, accuracy = do_kmeans(data_2012_X, data_2012_y)\n",
    "print(accuracy)\n",
    "\n",
    "y, y_pred, accuracy = do_kmeans(data_2013_X, data_2013_y)\n",
    "print(accuracy)\n",
    "\n",
    "y, y_pred, accuracy = do_kmeans(data_2014_X, data_2014_y)\n",
    "print(accuracy)"
   ]
  },
  {
   "cell_type": "code",
   "execution_count": 339,
   "metadata": {},
   "outputs": [],
   "source": [
    "data = pd.read_csv('PM2.5_Beijing_2010_2014.csv')\n",
    "data = data.dropna()\n",
    "data = data.drop(columns=['No', 'Is', 'Ir'])\n",
    "# samples with pm2.5 values less than 100 are low, otherwise high\n",
    "data['target'] = np.where(data['pm2.5'] < 100, 'low', 'high')\n",
    "data = data.drop(columns=['pm2.5'])\n",
    "# convert to numerical values, not category\n",
    "data['cbwd'] = data['cbwd'].astype('category')\n",
    "data['cbwd'] = data['cbwd'].cat.codes\n",
    "data.to_csv('clean_pm2.5_data2.csv', index=False)\n",
    "\n"
   ]
  },
  {
   "cell_type": "code",
   "execution_count": 343,
   "metadata": {},
   "outputs": [],
   "source": [
    "class PM25Data:\n",
    "    def __init__(self, data):\n",
    "        self.data = data\n",
    "\n",
    "    def split_data(self, test_size=0.2):\n",
    "        # use year 2010 - 2013 as training data and 2014 as test data\n",
    "        X_train = self.data[self.data['year'] < 2014].drop(columns=['year', 'target'])\n",
    "        y_train = self.data[self.data['year'] < 2014]['target']\n",
    "        X_test = self.data[self.data['year'] == 2014].drop(columns=['year', 'target'])\n",
    "        y_test = self.data[self.data['year'] == 2014]['target']\n",
    "        return X_train, y_train, X_test, y_test\n",
    "    \n",
    "    def do_knn(self, X_train, y_train, X_test, y_test, k=5, metric='minkowski'):\n",
    "        knn = KNeighborsClassifier(n_neighbors=k, metric=metric, p=2)\n",
    "        if metric == 'seuclidean':\n",
    "            V = np.var(X_train, axis=0)\n",
    "            knn = KNeighborsClassifier(n_neighbors=k, metric=metric, metric_params={'V': V})\n",
    "        knn.fit(X_train, y_train)\n",
    "        y_pred = knn.predict(X_test)\n",
    "        y_pred_proba = knn.predict_proba(X_test)[:, 1]\n",
    "        cm = confusion_matrix(y_test, y_pred)\n",
    "        return cm, y_pred_proba\n",
    "    \n",
    "    def plot_confusion_matrix(self, cm):\n",
    "        plt.imshow(cm, interpolation='nearest', cmap=plt.cm.Blues)\n",
    "        plt.title('Confusion matrix')\n",
    "        plt.colorbar()\n",
    "        plt.show()\n",
    "    "
   ]
  },
  {
   "cell_type": "code",
   "execution_count": null,
   "metadata": {},
   "outputs": [],
   "source": [
    "# do knn on the data\n",
    "data = pd.read_csv('clean_pm2.5_data2.csv')\n",
    "\n",
    "data['cbwd'] = data['cbwd'].astype('category')\n",
    "\n",
    "\n",
    "pm25_data = PM25Data(data)\n",
    "X_train, y_train, X_test, y_test = pm25_data.split_data()\n",
    "cm, y_pred_proba = pm25_data.do_knn(X_train, y_train, X_test, y_test, k=5, metric='euclidean')\n",
    "pm25_data.plot_confusion_matrix(cm)\n",
    "cm, y_pred_proba = pm25_data.do_knn(X_train, y_train, X_test, y_test, k=5, metric='correlation')\n",
    "pm25_data.plot_confusion_matrix(cm)\n",
    "cm, y_pred_proba = pm25_data.do_knn(X_train, y_train, X_test, y_test, k=5, metric='cosine')\n",
    "pm25_data.plot_confusion_matrix(cm)\n",
    "cm, y_pred_proba = pm25_data.do_knn(X_train, y_train, X_test, y_test, k=5, metric='chebyshev')\n",
    "pm25_data.plot_confusion_matrix(cm)\n",
    "cm, y_pred_proba = pm25_data.do_knn(X_train, y_train, X_test, y_test, k=5, metric='seuclidean')\n",
    "pm25_data.plot_confusion_matrix(cm)\n",
    "\n"
   ]
  }
 ],
 "metadata": {
  "kernelspec": {
   "display_name": "Python 3",
   "language": "python",
   "name": "python3"
  },
  "language_info": {
   "codemirror_mode": {
    "name": "ipython",
    "version": 3
   },
   "file_extension": ".py",
   "mimetype": "text/x-python",
   "name": "python",
   "nbconvert_exporter": "python",
   "pygments_lexer": "ipython3",
   "version": "3.11.4"
  }
 },
 "nbformat": 4,
 "nbformat_minor": 2
}
