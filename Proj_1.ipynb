{
 "cells": [
  {
   "cell_type": "code",
   "execution_count": 1,
   "metadata": {},
   "outputs": [],
   "source": [
    "import numpy as np\n",
    "import pandas as pd\n",
    "from sklearn import datasets\n",
    "from sklearn.cluster import KMeans, DBSCAN, OPTICS\n",
    "from sklearn.metrics import silhouette_score, v_measure_score, adjusted_rand_score, normalized_mutual_info_score, adjusted_mutual_info_score\n",
    "from sklearn.preprocessing import StandardScaler\n",
    "from scipy.cluster.hierarchy import linkage, fcluster\n",
    "import hdbscan"
   ]
  },
  {
   "cell_type": "code",
   "execution_count": 2,
   "metadata": {},
   "outputs": [
    {
     "ename": "FileNotFoundError",
     "evalue": "[Errno 2] No such file or directory: 'project1/breast_wisc_dataset.csv'",
     "output_type": "error",
     "traceback": [
      "\u001b[1;31m---------------------------------------------------------------------------\u001b[0m",
      "\u001b[1;31mFileNotFoundError\u001b[0m                         Traceback (most recent call last)",
      "Cell \u001b[1;32mIn [2], line 6\u001b[0m\n\u001b[0;32m      3\u001b[0m y_iris \u001b[38;5;241m=\u001b[39m iris\u001b[38;5;241m.\u001b[39mtarget\n\u001b[0;32m      5\u001b[0m \u001b[38;5;66;03m#last column is the target for the following dataset\u001b[39;00m\n\u001b[1;32m----> 6\u001b[0m breast \u001b[38;5;241m=\u001b[39m \u001b[43mpd\u001b[49m\u001b[38;5;241;43m.\u001b[39;49m\u001b[43mread_csv\u001b[49m\u001b[43m(\u001b[49m\u001b[38;5;124;43m'\u001b[39;49m\u001b[38;5;124;43mproject1/breast_wisc_dataset.csv\u001b[39;49m\u001b[38;5;124;43m'\u001b[39;49m\u001b[43m,\u001b[49m\u001b[43m \u001b[49m\u001b[43mheader\u001b[49m\u001b[38;5;241;43m=\u001b[39;49m\u001b[38;5;241;43m0\u001b[39;49m\u001b[43m)\u001b[49m\n\u001b[0;32m      7\u001b[0m X_breast_wisc \u001b[38;5;241m=\u001b[39m breast\u001b[38;5;241m.\u001b[39miloc[:, :\u001b[38;5;241m-\u001b[39m\u001b[38;5;241m1\u001b[39m]\n\u001b[0;32m      8\u001b[0m y_breast_wisc \u001b[38;5;241m=\u001b[39m breast\u001b[38;5;241m.\u001b[39miloc[:, \u001b[38;5;241m-\u001b[39m\u001b[38;5;241m1\u001b[39m]\n",
      "File \u001b[1;32mc:\\Users\\lroe3\\AppData\\Local\\Programs\\Python\\Python310\\lib\\site-packages\\pandas\\util\\_decorators.py:311\u001b[0m, in \u001b[0;36mdeprecate_nonkeyword_arguments.<locals>.decorate.<locals>.wrapper\u001b[1;34m(*args, **kwargs)\u001b[0m\n\u001b[0;32m    305\u001b[0m \u001b[38;5;28;01mif\u001b[39;00m \u001b[38;5;28mlen\u001b[39m(args) \u001b[38;5;241m>\u001b[39m num_allow_args:\n\u001b[0;32m    306\u001b[0m     warnings\u001b[38;5;241m.\u001b[39mwarn(\n\u001b[0;32m    307\u001b[0m         msg\u001b[38;5;241m.\u001b[39mformat(arguments\u001b[38;5;241m=\u001b[39marguments),\n\u001b[0;32m    308\u001b[0m         \u001b[38;5;167;01mFutureWarning\u001b[39;00m,\n\u001b[0;32m    309\u001b[0m         stacklevel\u001b[38;5;241m=\u001b[39mstacklevel,\n\u001b[0;32m    310\u001b[0m     )\n\u001b[1;32m--> 311\u001b[0m \u001b[38;5;28;01mreturn\u001b[39;00m func(\u001b[38;5;241m*\u001b[39margs, \u001b[38;5;241m*\u001b[39m\u001b[38;5;241m*\u001b[39mkwargs)\n",
      "File \u001b[1;32mc:\\Users\\lroe3\\AppData\\Local\\Programs\\Python\\Python310\\lib\\site-packages\\pandas\\io\\parsers\\readers.py:678\u001b[0m, in \u001b[0;36mread_csv\u001b[1;34m(filepath_or_buffer, sep, delimiter, header, names, index_col, usecols, squeeze, prefix, mangle_dupe_cols, dtype, engine, converters, true_values, false_values, skipinitialspace, skiprows, skipfooter, nrows, na_values, keep_default_na, na_filter, verbose, skip_blank_lines, parse_dates, infer_datetime_format, keep_date_col, date_parser, dayfirst, cache_dates, iterator, chunksize, compression, thousands, decimal, lineterminator, quotechar, quoting, doublequote, escapechar, comment, encoding, encoding_errors, dialect, error_bad_lines, warn_bad_lines, on_bad_lines, delim_whitespace, low_memory, memory_map, float_precision, storage_options)\u001b[0m\n\u001b[0;32m    663\u001b[0m kwds_defaults \u001b[38;5;241m=\u001b[39m _refine_defaults_read(\n\u001b[0;32m    664\u001b[0m     dialect,\n\u001b[0;32m    665\u001b[0m     delimiter,\n\u001b[1;32m   (...)\u001b[0m\n\u001b[0;32m    674\u001b[0m     defaults\u001b[38;5;241m=\u001b[39m{\u001b[38;5;124m\"\u001b[39m\u001b[38;5;124mdelimiter\u001b[39m\u001b[38;5;124m\"\u001b[39m: \u001b[38;5;124m\"\u001b[39m\u001b[38;5;124m,\u001b[39m\u001b[38;5;124m\"\u001b[39m},\n\u001b[0;32m    675\u001b[0m )\n\u001b[0;32m    676\u001b[0m kwds\u001b[38;5;241m.\u001b[39mupdate(kwds_defaults)\n\u001b[1;32m--> 678\u001b[0m \u001b[38;5;28;01mreturn\u001b[39;00m \u001b[43m_read\u001b[49m\u001b[43m(\u001b[49m\u001b[43mfilepath_or_buffer\u001b[49m\u001b[43m,\u001b[49m\u001b[43m \u001b[49m\u001b[43mkwds\u001b[49m\u001b[43m)\u001b[49m\n",
      "File \u001b[1;32mc:\\Users\\lroe3\\AppData\\Local\\Programs\\Python\\Python310\\lib\\site-packages\\pandas\\io\\parsers\\readers.py:575\u001b[0m, in \u001b[0;36m_read\u001b[1;34m(filepath_or_buffer, kwds)\u001b[0m\n\u001b[0;32m    572\u001b[0m _validate_names(kwds\u001b[38;5;241m.\u001b[39mget(\u001b[38;5;124m\"\u001b[39m\u001b[38;5;124mnames\u001b[39m\u001b[38;5;124m\"\u001b[39m, \u001b[38;5;28;01mNone\u001b[39;00m))\n\u001b[0;32m    574\u001b[0m \u001b[38;5;66;03m# Create the parser.\u001b[39;00m\n\u001b[1;32m--> 575\u001b[0m parser \u001b[38;5;241m=\u001b[39m TextFileReader(filepath_or_buffer, \u001b[38;5;241m*\u001b[39m\u001b[38;5;241m*\u001b[39mkwds)\n\u001b[0;32m    577\u001b[0m \u001b[38;5;28;01mif\u001b[39;00m chunksize \u001b[38;5;129;01mor\u001b[39;00m iterator:\n\u001b[0;32m    578\u001b[0m     \u001b[38;5;28;01mreturn\u001b[39;00m parser\n",
      "File \u001b[1;32mc:\\Users\\lroe3\\AppData\\Local\\Programs\\Python\\Python310\\lib\\site-packages\\pandas\\io\\parsers\\readers.py:932\u001b[0m, in \u001b[0;36mTextFileReader.__init__\u001b[1;34m(self, f, engine, **kwds)\u001b[0m\n\u001b[0;32m    929\u001b[0m     \u001b[38;5;28mself\u001b[39m\u001b[38;5;241m.\u001b[39moptions[\u001b[38;5;124m\"\u001b[39m\u001b[38;5;124mhas_index_names\u001b[39m\u001b[38;5;124m\"\u001b[39m] \u001b[38;5;241m=\u001b[39m kwds[\u001b[38;5;124m\"\u001b[39m\u001b[38;5;124mhas_index_names\u001b[39m\u001b[38;5;124m\"\u001b[39m]\n\u001b[0;32m    931\u001b[0m \u001b[38;5;28mself\u001b[39m\u001b[38;5;241m.\u001b[39mhandles: IOHandles \u001b[38;5;241m|\u001b[39m \u001b[38;5;28;01mNone\u001b[39;00m \u001b[38;5;241m=\u001b[39m \u001b[38;5;28;01mNone\u001b[39;00m\n\u001b[1;32m--> 932\u001b[0m \u001b[38;5;28mself\u001b[39m\u001b[38;5;241m.\u001b[39m_engine \u001b[38;5;241m=\u001b[39m \u001b[38;5;28;43mself\u001b[39;49m\u001b[38;5;241;43m.\u001b[39;49m\u001b[43m_make_engine\u001b[49m\u001b[43m(\u001b[49m\u001b[43mf\u001b[49m\u001b[43m,\u001b[49m\u001b[43m \u001b[49m\u001b[38;5;28;43mself\u001b[39;49m\u001b[38;5;241;43m.\u001b[39;49m\u001b[43mengine\u001b[49m\u001b[43m)\u001b[49m\n",
      "File \u001b[1;32mc:\\Users\\lroe3\\AppData\\Local\\Programs\\Python\\Python310\\lib\\site-packages\\pandas\\io\\parsers\\readers.py:1216\u001b[0m, in \u001b[0;36mTextFileReader._make_engine\u001b[1;34m(self, f, engine)\u001b[0m\n\u001b[0;32m   1212\u001b[0m     mode \u001b[38;5;241m=\u001b[39m \u001b[38;5;124m\"\u001b[39m\u001b[38;5;124mrb\u001b[39m\u001b[38;5;124m\"\u001b[39m\n\u001b[0;32m   1213\u001b[0m \u001b[38;5;66;03m# error: No overload variant of \"get_handle\" matches argument types\u001b[39;00m\n\u001b[0;32m   1214\u001b[0m \u001b[38;5;66;03m# \"Union[str, PathLike[str], ReadCsvBuffer[bytes], ReadCsvBuffer[str]]\"\u001b[39;00m\n\u001b[0;32m   1215\u001b[0m \u001b[38;5;66;03m# , \"str\", \"bool\", \"Any\", \"Any\", \"Any\", \"Any\", \"Any\"\u001b[39;00m\n\u001b[1;32m-> 1216\u001b[0m \u001b[38;5;28mself\u001b[39m\u001b[38;5;241m.\u001b[39mhandles \u001b[38;5;241m=\u001b[39m \u001b[43mget_handle\u001b[49m\u001b[43m(\u001b[49m\u001b[43m  \u001b[49m\u001b[38;5;66;43;03m# type: ignore[call-overload]\u001b[39;49;00m\n\u001b[0;32m   1217\u001b[0m \u001b[43m    \u001b[49m\u001b[43mf\u001b[49m\u001b[43m,\u001b[49m\n\u001b[0;32m   1218\u001b[0m \u001b[43m    \u001b[49m\u001b[43mmode\u001b[49m\u001b[43m,\u001b[49m\n\u001b[0;32m   1219\u001b[0m \u001b[43m    \u001b[49m\u001b[43mencoding\u001b[49m\u001b[38;5;241;43m=\u001b[39;49m\u001b[38;5;28;43mself\u001b[39;49m\u001b[38;5;241;43m.\u001b[39;49m\u001b[43moptions\u001b[49m\u001b[38;5;241;43m.\u001b[39;49m\u001b[43mget\u001b[49m\u001b[43m(\u001b[49m\u001b[38;5;124;43m\"\u001b[39;49m\u001b[38;5;124;43mencoding\u001b[39;49m\u001b[38;5;124;43m\"\u001b[39;49m\u001b[43m,\u001b[49m\u001b[43m \u001b[49m\u001b[38;5;28;43;01mNone\u001b[39;49;00m\u001b[43m)\u001b[49m\u001b[43m,\u001b[49m\n\u001b[0;32m   1220\u001b[0m \u001b[43m    \u001b[49m\u001b[43mcompression\u001b[49m\u001b[38;5;241;43m=\u001b[39;49m\u001b[38;5;28;43mself\u001b[39;49m\u001b[38;5;241;43m.\u001b[39;49m\u001b[43moptions\u001b[49m\u001b[38;5;241;43m.\u001b[39;49m\u001b[43mget\u001b[49m\u001b[43m(\u001b[49m\u001b[38;5;124;43m\"\u001b[39;49m\u001b[38;5;124;43mcompression\u001b[39;49m\u001b[38;5;124;43m\"\u001b[39;49m\u001b[43m,\u001b[49m\u001b[43m \u001b[49m\u001b[38;5;28;43;01mNone\u001b[39;49;00m\u001b[43m)\u001b[49m\u001b[43m,\u001b[49m\n\u001b[0;32m   1221\u001b[0m \u001b[43m    \u001b[49m\u001b[43mmemory_map\u001b[49m\u001b[38;5;241;43m=\u001b[39;49m\u001b[38;5;28;43mself\u001b[39;49m\u001b[38;5;241;43m.\u001b[39;49m\u001b[43moptions\u001b[49m\u001b[38;5;241;43m.\u001b[39;49m\u001b[43mget\u001b[49m\u001b[43m(\u001b[49m\u001b[38;5;124;43m\"\u001b[39;49m\u001b[38;5;124;43mmemory_map\u001b[39;49m\u001b[38;5;124;43m\"\u001b[39;49m\u001b[43m,\u001b[49m\u001b[43m \u001b[49m\u001b[38;5;28;43;01mFalse\u001b[39;49;00m\u001b[43m)\u001b[49m\u001b[43m,\u001b[49m\n\u001b[0;32m   1222\u001b[0m \u001b[43m    \u001b[49m\u001b[43mis_text\u001b[49m\u001b[38;5;241;43m=\u001b[39;49m\u001b[43mis_text\u001b[49m\u001b[43m,\u001b[49m\n\u001b[0;32m   1223\u001b[0m \u001b[43m    \u001b[49m\u001b[43merrors\u001b[49m\u001b[38;5;241;43m=\u001b[39;49m\u001b[38;5;28;43mself\u001b[39;49m\u001b[38;5;241;43m.\u001b[39;49m\u001b[43moptions\u001b[49m\u001b[38;5;241;43m.\u001b[39;49m\u001b[43mget\u001b[49m\u001b[43m(\u001b[49m\u001b[38;5;124;43m\"\u001b[39;49m\u001b[38;5;124;43mencoding_errors\u001b[39;49m\u001b[38;5;124;43m\"\u001b[39;49m\u001b[43m,\u001b[49m\u001b[43m \u001b[49m\u001b[38;5;124;43m\"\u001b[39;49m\u001b[38;5;124;43mstrict\u001b[39;49m\u001b[38;5;124;43m\"\u001b[39;49m\u001b[43m)\u001b[49m\u001b[43m,\u001b[49m\n\u001b[0;32m   1224\u001b[0m \u001b[43m    \u001b[49m\u001b[43mstorage_options\u001b[49m\u001b[38;5;241;43m=\u001b[39;49m\u001b[38;5;28;43mself\u001b[39;49m\u001b[38;5;241;43m.\u001b[39;49m\u001b[43moptions\u001b[49m\u001b[38;5;241;43m.\u001b[39;49m\u001b[43mget\u001b[49m\u001b[43m(\u001b[49m\u001b[38;5;124;43m\"\u001b[39;49m\u001b[38;5;124;43mstorage_options\u001b[39;49m\u001b[38;5;124;43m\"\u001b[39;49m\u001b[43m,\u001b[49m\u001b[43m \u001b[49m\u001b[38;5;28;43;01mNone\u001b[39;49;00m\u001b[43m)\u001b[49m\u001b[43m,\u001b[49m\n\u001b[0;32m   1225\u001b[0m \u001b[43m\u001b[49m\u001b[43m)\u001b[49m\n\u001b[0;32m   1226\u001b[0m \u001b[38;5;28;01massert\u001b[39;00m \u001b[38;5;28mself\u001b[39m\u001b[38;5;241m.\u001b[39mhandles \u001b[38;5;129;01mis\u001b[39;00m \u001b[38;5;129;01mnot\u001b[39;00m \u001b[38;5;28;01mNone\u001b[39;00m\n\u001b[0;32m   1227\u001b[0m f \u001b[38;5;241m=\u001b[39m \u001b[38;5;28mself\u001b[39m\u001b[38;5;241m.\u001b[39mhandles\u001b[38;5;241m.\u001b[39mhandle\n",
      "File \u001b[1;32mc:\\Users\\lroe3\\AppData\\Local\\Programs\\Python\\Python310\\lib\\site-packages\\pandas\\io\\common.py:786\u001b[0m, in \u001b[0;36mget_handle\u001b[1;34m(path_or_buf, mode, encoding, compression, memory_map, is_text, errors, storage_options)\u001b[0m\n\u001b[0;32m    781\u001b[0m \u001b[38;5;28;01melif\u001b[39;00m \u001b[38;5;28misinstance\u001b[39m(handle, \u001b[38;5;28mstr\u001b[39m):\n\u001b[0;32m    782\u001b[0m     \u001b[38;5;66;03m# Check whether the filename is to be opened in binary mode.\u001b[39;00m\n\u001b[0;32m    783\u001b[0m     \u001b[38;5;66;03m# Binary mode does not support 'encoding' and 'newline'.\u001b[39;00m\n\u001b[0;32m    784\u001b[0m     \u001b[38;5;28;01mif\u001b[39;00m ioargs\u001b[38;5;241m.\u001b[39mencoding \u001b[38;5;129;01mand\u001b[39;00m \u001b[38;5;124m\"\u001b[39m\u001b[38;5;124mb\u001b[39m\u001b[38;5;124m\"\u001b[39m \u001b[38;5;129;01mnot\u001b[39;00m \u001b[38;5;129;01min\u001b[39;00m ioargs\u001b[38;5;241m.\u001b[39mmode:\n\u001b[0;32m    785\u001b[0m         \u001b[38;5;66;03m# Encoding\u001b[39;00m\n\u001b[1;32m--> 786\u001b[0m         handle \u001b[38;5;241m=\u001b[39m \u001b[38;5;28;43mopen\u001b[39;49m\u001b[43m(\u001b[49m\n\u001b[0;32m    787\u001b[0m \u001b[43m            \u001b[49m\u001b[43mhandle\u001b[49m\u001b[43m,\u001b[49m\n\u001b[0;32m    788\u001b[0m \u001b[43m            \u001b[49m\u001b[43mioargs\u001b[49m\u001b[38;5;241;43m.\u001b[39;49m\u001b[43mmode\u001b[49m\u001b[43m,\u001b[49m\n\u001b[0;32m    789\u001b[0m \u001b[43m            \u001b[49m\u001b[43mencoding\u001b[49m\u001b[38;5;241;43m=\u001b[39;49m\u001b[43mioargs\u001b[49m\u001b[38;5;241;43m.\u001b[39;49m\u001b[43mencoding\u001b[49m\u001b[43m,\u001b[49m\n\u001b[0;32m    790\u001b[0m \u001b[43m            \u001b[49m\u001b[43merrors\u001b[49m\u001b[38;5;241;43m=\u001b[39;49m\u001b[43merrors\u001b[49m\u001b[43m,\u001b[49m\n\u001b[0;32m    791\u001b[0m \u001b[43m            \u001b[49m\u001b[43mnewline\u001b[49m\u001b[38;5;241;43m=\u001b[39;49m\u001b[38;5;124;43m\"\u001b[39;49m\u001b[38;5;124;43m\"\u001b[39;49m\u001b[43m,\u001b[49m\n\u001b[0;32m    792\u001b[0m \u001b[43m        \u001b[49m\u001b[43m)\u001b[49m\n\u001b[0;32m    793\u001b[0m     \u001b[38;5;28;01melse\u001b[39;00m:\n\u001b[0;32m    794\u001b[0m         \u001b[38;5;66;03m# Binary mode\u001b[39;00m\n\u001b[0;32m    795\u001b[0m         handle \u001b[38;5;241m=\u001b[39m \u001b[38;5;28mopen\u001b[39m(handle, ioargs\u001b[38;5;241m.\u001b[39mmode)\n",
      "\u001b[1;31mFileNotFoundError\u001b[0m: [Errno 2] No such file or directory: 'project1/breast_wisc_dataset.csv'"
     ]
    }
   ],
   "source": [
    "iris = datasets.load_iris()\n",
    "X_iris = iris.data\n",
    "y_iris = iris.target\n",
    "\n",
    "#last column is the target for the following dataset\n",
    "breast = pd.read_csv('project1/breast_wisc_dataset.csv', header=0)\n",
    "X_breast_wisc = breast.iloc[:, :-1]\n",
    "y_breast_wisc = breast.iloc[:, -1]\n",
    "print(y_breast_wisc)\n",
    "\n",
    "cybersecurity = pd.read_csv('project1/cybersecurity_data.csv', header=0)\n",
    "X_cybersecurity = cybersecurity.iloc[:, :-1]\n",
    "y_cybersecurity = cybersecurity.iloc[:, -1]\n",
    "\n",
    "aapl = pd.read_csv('project1/HFT_AAPL_data.csv', header=0)\n",
    "# drop the Date column and first column\n",
    "aapl = aapl.drop(columns=['Date'])\n",
    "aapl = aapl.drop(columns=[aapl.columns[0]])\n",
    "X_aapl = aapl.iloc[:, 1:]\n",
    "y_aapl = aapl.iloc[:, 0]\n",
    "\n"
   ]
  },
  {
   "cell_type": "code",
   "execution_count": 3,
   "metadata": {},
   "outputs": [],
   "source": [
    "def SSScaleData(X):\n",
    "    scaler = StandardScaler()\n",
    "    X = scaler.fit_transform(X)\n",
    "    return X"
   ]
  },
  {
   "cell_type": "code",
   "execution_count": 4,
   "metadata": {},
   "outputs": [],
   "source": [
    "def do_kmeans(X, k):\n",
    "    kmeans = KMeans(n_clusters=k, random_state=0)\n",
    "    kmeans.fit(X)\n",
    "    y_pred = kmeans.predict(X)\n",
    "    return y_pred\n",
    "\n",
    "def do_hdbscan(X, min_cluster_size):\n",
    "    clusterer = hdbscan.HDBSCAN(min_cluster_size=min_cluster_size)\n",
    "    clusterer.fit(X)\n",
    "    y_pred = clusterer.labels_\n",
    "    return y_pred\n",
    "\n",
    "def do_dbscan(X, eps, min_samples):\n",
    "    dbscan = DBSCAN(eps=eps, min_samples=min_samples)\n",
    "    dbscan.fit(X)\n",
    "    y_pred = dbscan.labels_\n",
    "    return y_pred\n",
    "\n",
    "def do_optics(X, min_samples, xi):\n",
    "    optics = OPTICS(min_samples=min_samples, xi=xi)\n",
    "    optics.fit(X)\n",
    "    y_pred = optics.labels_\n",
    "    return y_pred\n",
    "\n",
    "def do_bisecting_kmeans(X, k):\n",
    "    Z = linkage(X, 'ward')\n",
    "    y_pred = fcluster(Z, k, criterion='maxclust')\n",
    "    return y_pred"
   ]
  },
  {
   "cell_type": "code",
   "execution_count": 5,
   "metadata": {},
   "outputs": [],
   "source": [
    "X_iris_scaled = SSScaleData(X_iris)\n",
    "X_breast_wisc_scaled = SSScaleData(X_breast_wisc)\n",
    "X_cybersecurity_scaled = SSScaleData(X_cybersecurity)\n",
    "X_aapl_scaled = SSScaleData(X_aapl)\n"
   ]
  },
  {
   "cell_type": "code",
   "execution_count": 6,
   "metadata": {},
   "outputs": [],
   "source": [
    "def evaluate_clustering(X, labels_true, labels_pred):\n",
    "    silhouette = silhouette_score(X, labels_pred)\n",
    "    v_measure = v_measure_score(labels_true, labels_pred)\n",
    "    ari = adjusted_rand_score(labels_true, labels_pred)\n",
    "    nmi = normalized_mutual_info_score(labels_true, labels_pred)\n",
    "    ami = adjusted_mutual_info_score(labels_true, labels_pred)\n",
    "    return silhouette, v_measure, ari, nmi, ami"
   ]
  },
  {
   "cell_type": "code",
   "execution_count": 7,
   "metadata": {},
   "outputs": [
    {
     "name": "stdout",
     "output_type": "stream",
     "text": [
      "KMeans - Iris: Silhouette=0.45994823920518635, V-measure=0.659486892724918, ARI=0.6201351808870379, NMI=0.659486892724918, AMI=0.6552228479234864\n",
      "HDBSCAN - Iris: Silhouette=0.49486290250095627, V-measure=0.7174643320814477, ARI=0.5637510205230709, NMI=0.7174643320814476, AMI=0.7125764811325077\n",
      "DBSCAN - Iris: Silhouette=0.35651648142700726, V-measure=0.5114298559522713, ARI=0.4420986685885924, NMI=0.5114298559522713, AMI=0.5051666404374137\n",
      "OPTICS - Iris: Silhouette=-0.300864934206103, V-measure=0.2923566511548631, ARI=0.05141642728695205, NMI=0.29235665115486303, AMI=0.2656899926556021\n",
      "Bisecting KMeans - Iris: Silhouette=0.4466890410285909, V-measure=0.6754701853436886, ARI=0.6153229932145449, NMI=0.6754701853436886, AMI=0.6712861348071291\n"
     ]
    }
   ],
   "source": [
    "labels_kmeans_iris = do_kmeans(X_iris_scaled, 3)\n",
    "silhouette, v_measure, ari, nmi, ami = evaluate_clustering(X_iris_scaled, y_iris, labels_kmeans_iris)\n",
    "print(f\"KMeans - Iris: Silhouette={silhouette}, V-measure={v_measure}, ARI={ari}, NMI={nmi}, AMI={ami}\")\n",
    "\n",
    "labels_hdbscan_iris = do_hdbscan(X_iris_scaled, 5)\n",
    "silhouette, v_measure, ari, nmi, ami = evaluate_clustering(X_iris_scaled, y_iris, labels_hdbscan_iris)\n",
    "print(f\"HDBSCAN - Iris: Silhouette={silhouette}, V-measure={v_measure}, ARI={ari}, NMI={nmi}, AMI={ami}\")\n",
    "\n",
    "labels_dbscan_iris = do_dbscan(X_iris_scaled, 0.5, 5)\n",
    "silhouette, v_measure, ari, nmi, ami = evaluate_clustering(X_iris_scaled, y_iris, labels_dbscan_iris)\n",
    "print(f\"DBSCAN - Iris: Silhouette={silhouette}, V-measure={v_measure}, ARI={ari}, NMI={nmi}, AMI={ami}\")\n",
    "\n",
    "labels_optics_iris = do_optics(X_iris_scaled, 5, 0.05)\n",
    "silhouette, v_measure, ari, nmi, ami = evaluate_clustering(X_iris_scaled, y_iris, labels_optics_iris)\n",
    "print(f\"OPTICS - Iris: Silhouette={silhouette}, V-measure={v_measure}, ARI={ari}, NMI={nmi}, AMI={ami}\")\n",
    "\n",
    "labels_bisecting_kmeans_iris = do_bisecting_kmeans(X_iris_scaled, 3)\n",
    "silhouette, v_measure, ari, nmi, ami = evaluate_clustering(X_iris_scaled, y_iris, labels_bisecting_kmeans_iris)\n",
    "print(f\"Bisecting KMeans - Iris: Silhouette={silhouette}, V-measure={v_measure}, ARI={ari}, NMI={nmi}, AMI={ami}\")\n",
    "\n",
    "# write to csv\n",
    "iris_results = pd.DataFrame({'KMeans': labels_kmeans_iris, 'HDBSCAN': labels_hdbscan_iris, 'DBSCAN': labels_dbscan_iris, 'OPTICS': labels_optics_iris, 'BisectingKMeans': labels_bisecting_kmeans_iris})\n",
    "iris_results.to_csv('project1/iris_results.csv', index=False)\n",
    "\n"
   ]
  },
  {
   "cell_type": "code",
   "execution_count": 8,
   "metadata": {},
   "outputs": [
    {
     "name": "stdout",
     "output_type": "stream",
     "text": [
      "KMeans - Breast: Silhouette=0.34338224069077805, V-measure=0.5324078598532422, ARI=0.6536246043910179, NMI=0.5324078598532422, AMI=0.5317737219826534\n",
      "[-1 -1 -1 -1 -1 -1  0 -1 -1 -1  1 -1 -1 -1 -1 -1  1 -1 -1  1  1 -1 -1 -1\n",
      " -1 -1 -1 -1 -1 -1 -1 -1 -1 -1 -1 -1 -1 -1 -1 -1  1 -1 -1  1 -1 -1 -1 -1\n",
      "  1  1  1  1  1 -1  1  1 -1 -1  1 -1 -1 -1 -1 -1 -1 -1 -1  1 -1  1 -1 -1\n",
      " -1  1  1 -1 -1 -1 -1  1 -1 -1 -1 -1  1 -1 -1 -1  1 -1  1 -1  1  1 -1 -1\n",
      " -1 -1  1 -1  1 -1  1  1 -1 -1 -1  1 -1 -1 -1 -1 -1 -1 -1  1 -1 -1 -1 -1\n",
      "  1 -1 -1  1 -1  1 -1 -1 -1 -1  1  0 -1  1 -1  1 -1  1 -1 -1 -1 -1  1  1\n",
      "  1 -1 -1 -1  1  1 -1 -1 -1  1  1  1 -1 -1  1  1 -1 -1 -1 -1 -1  1 -1 -1\n",
      " -1  1  1  1 -1 -1 -1 -1 -1 -1 -1 -1 -1 -1 -1 -1 -1 -1 -1  1 -1  1 -1 -1\n",
      " -1 -1 -1  1 -1 -1 -1 -1  1 -1 -1 -1  1 -1  1 -1 -1 -1 -1  1 -1 -1 -1 -1\n",
      " -1 -1 -1 -1  1  1  1  1  1 -1  1  1 -1 -1 -1 -1 -1 -1 -1  1 -1 -1 -1 -1\n",
      "  1  1 -1 -1 -1 -1  1 -1 -1  1 -1  1 -1  0  0  1 -1 -1 -1 -1 -1 -1 -1  1\n",
      " -1 -1 -1  1  1 -1  1  1 -1 -1 -1 -1  1 -1  1  1 -1 -1  0 -1 -1  1 -1  1\n",
      " -1  1 -1  1 -1  1  1  1 -1 -1  1 -1 -1 -1 -1  1  1 -1  1 -1  1  1  1  1\n",
      "  1 -1 -1  1  1  0 -1 -1 -1 -1 -1 -1  1  1  1  1 -1 -1 -1 -1 -1  1  1 -1\n",
      " -1 -1  1 -1  1 -1  1 -1  1 -1  1  1  1 -1  1 -1 -1 -1 -1 -1 -1  1 -1 -1\n",
      "  1  1  1  1  1 -1 -1  1 -1 -1 -1  1 -1 -1  1 -1 -1  1 -1 -1 -1  1 -1 -1\n",
      "  1 -1 -1  1 -1 -1  1 -1 -1 -1  1  1  1 -1  1  1 -1  1 -1  1  1  1  1 -1\n",
      "  0  1 -1  1 -1 -1 -1  1 -1 -1  1  1  1 -1  1  1 -1 -1  1  1  1  1 -1 -1\n",
      " -1 -1  1 -1  1  1  1  1 -1 -1  1 -1  0 -1 -1  1  1 -1 -1 -1 -1  1  1 -1\n",
      " -1  1  1 -1 -1 -1 -1  1  1 -1 -1 -1 -1 -1 -1 -1  1 -1 -1  1  1  1  1 -1\n",
      "  1  1  1  1 -1 -1  1 -1  1 -1  1 -1 -1 -1  1  1  1  1 -1 -1 -1 -1  1 -1\n",
      " -1 -1 -1 -1  1 -1 -1  1 -1  1  1  1  0  0 -1  1 -1 -1  1  1  1 -1 -1  1\n",
      " -1  1 -1  1  1 -1 -1 -1 -1 -1 -1 -1 -1 -1  1  1  1  1  1 -1  1 -1 -1 -1\n",
      "  1 -1 -1 -1 -1 -1 -1 -1 -1 -1 -1 -1 -1 -1 -1 -1 -1]\n",
      "HDBSCAN - Breast: Silhouette=-0.047852671039569424, V-measure=0.19899510374253104, ARI=0.11855419155787604, NMI=0.19899510374253104, AMI=0.19688538402761704\n"
     ]
    },
    {
     "ename": "ValueError",
     "evalue": "Number of labels is 1. Valid values are 2 to n_samples - 1 (inclusive)",
     "output_type": "error",
     "traceback": [
      "\u001b[1;31m---------------------------------------------------------------------------\u001b[0m",
      "\u001b[1;31mValueError\u001b[0m                                Traceback (most recent call last)",
      "Cell \u001b[1;32mIn [8], line 11\u001b[0m\n\u001b[0;32m      8\u001b[0m \u001b[38;5;28mprint\u001b[39m(\u001b[38;5;124mf\u001b[39m\u001b[38;5;124m\"\u001b[39m\u001b[38;5;124mHDBSCAN - Breast: Silhouette=\u001b[39m\u001b[38;5;132;01m{\u001b[39;00msilhouette\u001b[38;5;132;01m}\u001b[39;00m\u001b[38;5;124m, V-measure=\u001b[39m\u001b[38;5;132;01m{\u001b[39;00mv_measure\u001b[38;5;132;01m}\u001b[39;00m\u001b[38;5;124m, ARI=\u001b[39m\u001b[38;5;132;01m{\u001b[39;00mari\u001b[38;5;132;01m}\u001b[39;00m\u001b[38;5;124m, NMI=\u001b[39m\u001b[38;5;132;01m{\u001b[39;00mnmi\u001b[38;5;132;01m}\u001b[39;00m\u001b[38;5;124m, AMI=\u001b[39m\u001b[38;5;132;01m{\u001b[39;00mami\u001b[38;5;132;01m}\u001b[39;00m\u001b[38;5;124m\"\u001b[39m)\n\u001b[0;32m     10\u001b[0m labels_dbscan_breast \u001b[38;5;241m=\u001b[39m do_dbscan(X_breast_wisc_scaled, \u001b[38;5;241m0.5\u001b[39m, \u001b[38;5;241m5\u001b[39m)\n\u001b[1;32m---> 11\u001b[0m silhouette, v_measure, ari, nmi, ami \u001b[38;5;241m=\u001b[39m \u001b[43mevaluate_clustering\u001b[49m\u001b[43m(\u001b[49m\u001b[43mX_breast_wisc_scaled\u001b[49m\u001b[43m,\u001b[49m\u001b[43m \u001b[49m\u001b[43my_breast_wisc\u001b[49m\u001b[43m,\u001b[49m\u001b[43m \u001b[49m\u001b[43mlabels_dbscan_breast\u001b[49m\u001b[43m)\u001b[49m\n\u001b[0;32m     12\u001b[0m \u001b[38;5;28mprint\u001b[39m(\u001b[38;5;124mf\u001b[39m\u001b[38;5;124m\"\u001b[39m\u001b[38;5;124mDBSCAN - Breast: Silhouette=\u001b[39m\u001b[38;5;132;01m{\u001b[39;00msilhouette\u001b[38;5;132;01m}\u001b[39;00m\u001b[38;5;124m, V-measure=\u001b[39m\u001b[38;5;132;01m{\u001b[39;00mv_measure\u001b[38;5;132;01m}\u001b[39;00m\u001b[38;5;124m, ARI=\u001b[39m\u001b[38;5;132;01m{\u001b[39;00mari\u001b[38;5;132;01m}\u001b[39;00m\u001b[38;5;124m, NMI=\u001b[39m\u001b[38;5;132;01m{\u001b[39;00mnmi\u001b[38;5;132;01m}\u001b[39;00m\u001b[38;5;124m, AMI=\u001b[39m\u001b[38;5;132;01m{\u001b[39;00mami\u001b[38;5;132;01m}\u001b[39;00m\u001b[38;5;124m\"\u001b[39m)\n\u001b[0;32m     14\u001b[0m labels_optics_breast \u001b[38;5;241m=\u001b[39m do_optics(X_breast_wisc_scaled, \u001b[38;5;241m5\u001b[39m, \u001b[38;5;241m0.05\u001b[39m)\n",
      "Cell \u001b[1;32mIn [6], line 2\u001b[0m, in \u001b[0;36mevaluate_clustering\u001b[1;34m(X, labels_true, labels_pred)\u001b[0m\n\u001b[0;32m      1\u001b[0m \u001b[38;5;28;01mdef\u001b[39;00m \u001b[38;5;21mevaluate_clustering\u001b[39m(X, labels_true, labels_pred):\n\u001b[1;32m----> 2\u001b[0m     silhouette \u001b[38;5;241m=\u001b[39m \u001b[43msilhouette_score\u001b[49m\u001b[43m(\u001b[49m\u001b[43mX\u001b[49m\u001b[43m,\u001b[49m\u001b[43m \u001b[49m\u001b[43mlabels_pred\u001b[49m\u001b[43m)\u001b[49m\n\u001b[0;32m      3\u001b[0m     v_measure \u001b[38;5;241m=\u001b[39m v_measure_score(labels_true, labels_pred)\n\u001b[0;32m      4\u001b[0m     ari \u001b[38;5;241m=\u001b[39m adjusted_rand_score(labels_true, labels_pred)\n",
      "File \u001b[1;32mc:\\Users\\lroe3\\AppData\\Local\\Programs\\Python\\Python310\\lib\\site-packages\\sklearn\\metrics\\cluster\\_unsupervised.py:117\u001b[0m, in \u001b[0;36msilhouette_score\u001b[1;34m(X, labels, metric, sample_size, random_state, **kwds)\u001b[0m\n\u001b[0;32m    115\u001b[0m     \u001b[38;5;28;01melse\u001b[39;00m:\n\u001b[0;32m    116\u001b[0m         X, labels \u001b[38;5;241m=\u001b[39m X[indices], labels[indices]\n\u001b[1;32m--> 117\u001b[0m \u001b[38;5;28;01mreturn\u001b[39;00m np\u001b[38;5;241m.\u001b[39mmean(silhouette_samples(X, labels, metric\u001b[38;5;241m=\u001b[39mmetric, \u001b[38;5;241m*\u001b[39m\u001b[38;5;241m*\u001b[39mkwds))\n",
      "File \u001b[1;32mc:\\Users\\lroe3\\AppData\\Local\\Programs\\Python\\Python310\\lib\\site-packages\\sklearn\\metrics\\cluster\\_unsupervised.py:227\u001b[0m, in \u001b[0;36msilhouette_samples\u001b[1;34m(X, labels, metric, **kwds)\u001b[0m\n\u001b[0;32m    225\u001b[0m n_samples \u001b[38;5;241m=\u001b[39m \u001b[38;5;28mlen\u001b[39m(labels)\n\u001b[0;32m    226\u001b[0m label_freqs \u001b[38;5;241m=\u001b[39m np\u001b[38;5;241m.\u001b[39mbincount(labels)\n\u001b[1;32m--> 227\u001b[0m \u001b[43mcheck_number_of_labels\u001b[49m\u001b[43m(\u001b[49m\u001b[38;5;28;43mlen\u001b[39;49m\u001b[43m(\u001b[49m\u001b[43mle\u001b[49m\u001b[38;5;241;43m.\u001b[39;49m\u001b[43mclasses_\u001b[49m\u001b[43m)\u001b[49m\u001b[43m,\u001b[49m\u001b[43m \u001b[49m\u001b[43mn_samples\u001b[49m\u001b[43m)\u001b[49m\n\u001b[0;32m    229\u001b[0m kwds[\u001b[38;5;124m\"\u001b[39m\u001b[38;5;124mmetric\u001b[39m\u001b[38;5;124m\"\u001b[39m] \u001b[38;5;241m=\u001b[39m metric\n\u001b[0;32m    230\u001b[0m reduce_func \u001b[38;5;241m=\u001b[39m functools\u001b[38;5;241m.\u001b[39mpartial(\n\u001b[0;32m    231\u001b[0m     _silhouette_reduce, labels\u001b[38;5;241m=\u001b[39mlabels, label_freqs\u001b[38;5;241m=\u001b[39mlabel_freqs\n\u001b[0;32m    232\u001b[0m )\n",
      "File \u001b[1;32mc:\\Users\\lroe3\\AppData\\Local\\Programs\\Python\\Python310\\lib\\site-packages\\sklearn\\metrics\\cluster\\_unsupervised.py:33\u001b[0m, in \u001b[0;36mcheck_number_of_labels\u001b[1;34m(n_labels, n_samples)\u001b[0m\n\u001b[0;32m     22\u001b[0m \u001b[38;5;124;03m\"\"\"Check that number of labels are valid.\u001b[39;00m\n\u001b[0;32m     23\u001b[0m \n\u001b[0;32m     24\u001b[0m \u001b[38;5;124;03mParameters\u001b[39;00m\n\u001b[1;32m   (...)\u001b[0m\n\u001b[0;32m     30\u001b[0m \u001b[38;5;124;03m    Number of samples.\u001b[39;00m\n\u001b[0;32m     31\u001b[0m \u001b[38;5;124;03m\"\"\"\u001b[39;00m\n\u001b[0;32m     32\u001b[0m \u001b[38;5;28;01mif\u001b[39;00m \u001b[38;5;129;01mnot\u001b[39;00m \u001b[38;5;241m1\u001b[39m \u001b[38;5;241m<\u001b[39m n_labels \u001b[38;5;241m<\u001b[39m n_samples:\n\u001b[1;32m---> 33\u001b[0m     \u001b[38;5;28;01mraise\u001b[39;00m \u001b[38;5;167;01mValueError\u001b[39;00m(\n\u001b[0;32m     34\u001b[0m         \u001b[38;5;124m\"\u001b[39m\u001b[38;5;124mNumber of labels is \u001b[39m\u001b[38;5;132;01m%d\u001b[39;00m\u001b[38;5;124m. Valid values are 2 to n_samples - 1 (inclusive)\u001b[39m\u001b[38;5;124m\"\u001b[39m\n\u001b[0;32m     35\u001b[0m         \u001b[38;5;241m%\u001b[39m n_labels\n\u001b[0;32m     36\u001b[0m     )\n",
      "\u001b[1;31mValueError\u001b[0m: Number of labels is 1. Valid values are 2 to n_samples - 1 (inclusive)"
     ]
    }
   ],
   "source": [
    "labels_kmeans_breast = do_kmeans(X_breast_wisc_scaled, 2)\n",
    "silhouette, v_measure, ari, nmi, ami = evaluate_clustering(X_breast_wisc_scaled, y_breast_wisc, labels_kmeans_breast)\n",
    "print(f\"KMeans - Breast: Silhouette={silhouette}, V-measure={v_measure}, ARI={ari}, NMI={nmi}, AMI={ami}\")\n",
    "\n",
    "labels_hdbscan_breast = do_hdbscan(X_breast_wisc_scaled, 5)\n",
    "print(labels_hdbscan_breast)\n",
    "silhouette, v_measure, ari, nmi, ami = evaluate_clustering(X_breast_wisc_scaled, y_breast_wisc, labels_hdbscan_breast)\n",
    "print(f\"HDBSCAN - Breast: Silhouette={silhouette}, V-measure={v_measure}, ARI={ari}, NMI={nmi}, AMI={ami}\")\n",
    "\n",
    "labels_dbscan_breast = do_dbscan(X_breast_wisc_scaled, 0.5, 5)\n",
    "silhouette, v_measure, ari, nmi, ami = evaluate_clustering(X_breast_wisc_scaled, y_breast_wisc, labels_dbscan_breast)\n",
    "print(f\"DBSCAN - Breast: Silhouette={silhouette}, V-measure={v_measure}, ARI={ari}, NMI={nmi}, AMI={ami}\")\n",
    "\n",
    "labels_optics_breast = do_optics(X_breast_wisc_scaled, 5, 0.05)\n",
    "silhouette, v_measure, ari, nmi, ami = evaluate_clustering(X_breast_wisc_scaled, y_breast_wisc, labels_optics_breast)\n",
    "print(f\"OPTICS - Breast: Silhouette={silhouette}, V-measure={v_measure}, ARI={ari}, NMI={nmi}, AMI={ami}\")\n",
    "\n",
    "labels_bisecting_kmeans_breast = do_bisecting_kmeans(X_breast_wisc_scaled, 2)\n",
    "silhouette, v_measure, ari, nmi, ami = evaluate_clustering(X_breast_wisc_scaled, y_breast_wisc, labels_bisecting_kmeans_breast)\n",
    "print(f\"Bisecting KMeans - Breast: Silhouette={silhouette}, V-measure={v_measure}, ARI={ari}, NMI={nmi}, AMI={ami}\")\n",
    "\n"
   ]
  },
  {
   "cell_type": "code",
   "execution_count": 42,
   "metadata": {},
   "outputs": [
    {
     "name": "stdout",
     "output_type": "stream",
     "text": [
      "KMeans - Cybersecurity: Silhouette=0.36880311644677655, V-measure=0.04828531952311552, ARI=0.10892228965242054, NMI=0.04828531952311551, AMI=0.04494870903810518\n",
      "HDBSCAN - Cybersecurity: Silhouette=0.4052320336110424, V-measure=0.0600217407888711, ARI=-0.0020362306540487804, NMI=0.06002174078887109, AMI=0.04570107458966869\n",
      "DBSCAN - Cybersecurity: Silhouette=-0.02173099826981661, V-measure=0.01762159104372252, ARI=-0.046486687946188085, NMI=0.01762159104372252, AMI=0.001222600333807796\n",
      "OPTICS - Cybersecurity: Silhouette=0.19911699539283256, V-measure=0.05304008957427311, ARI=-0.0050578223203026264, NMI=0.0530400895742731, AMI=0.0345166160593443\n",
      "Bisecting KMeans - Cybersecurity: Silhouette=0.3810439339941886, V-measure=0.07725057757991001, ARI=0.16930721934402113, NMI=0.07725057757991002, AMI=0.07338669881295742\n"
     ]
    }
   ],
   "source": [
    "labels_kmeans_cybersecurity = do_kmeans(X_cybersecurity_scaled, 2)\n",
    "silhouette, v_measure, ari, nmi, ami = evaluate_clustering(X_cybersecurity_scaled, y_cybersecurity, labels_kmeans_cybersecurity)\n",
    "print(f\"KMeans - Cybersecurity: Silhouette={silhouette}, V-measure={v_measure}, ARI={ari}, NMI={nmi}, AMI={ami}\")\n",
    "\n",
    "labels_hdbscan_cybersecurity = do_hdbscan(X_cybersecurity_scaled, 5)\n",
    "silhouette, v_measure, ari, nmi, ami = evaluate_clustering(X_cybersecurity_scaled, y_cybersecurity, labels_hdbscan_cybersecurity)\n",
    "print(f\"HDBSCAN - Cybersecurity: Silhouette={silhouette}, V-measure={v_measure}, ARI={ari}, NMI={nmi}, AMI={ami}\")\n",
    "\n",
    "labels_dbscan_cybersecurity = do_dbscan(X_cybersecurity_scaled, 0.5, 5)\n",
    "silhouette, v_measure, ari, nmi, ami = evaluate_clustering(X_cybersecurity_scaled, y_cybersecurity, labels_dbscan_cybersecurity)\n",
    "print(f\"DBSCAN - Cybersecurity: Silhouette={silhouette}, V-measure={v_measure}, ARI={ari}, NMI={nmi}, AMI={ami}\")\n",
    "\n",
    "labels_optics_cybersecurity = do_optics(X_cybersecurity_scaled, 5, 0.05)\n",
    "silhouette, v_measure, ari, nmi, ami = evaluate_clustering(X_cybersecurity_scaled, y_cybersecurity, labels_optics_cybersecurity)\n",
    "print(f\"OPTICS - Cybersecurity: Silhouette={silhouette}, V-measure={v_measure}, ARI={ari}, NMI={nmi}, AMI={ami}\")\n",
    "\n",
    "labels_bisecting_kmeans_cybersecurity = do_bisecting_kmeans(X_cybersecurity_scaled, 2)\n",
    "silhouette, v_measure, ari, nmi, ami = evaluate_clustering(X_cybersecurity_scaled, y_cybersecurity, labels_bisecting_kmeans_cybersecurity)\n",
    "print(f\"Bisecting KMeans - Cybersecurity: Silhouette={silhouette}, V-measure={v_measure}, ARI={ari}, NMI={nmi}, AMI={ami}\")\n",
    "\n"
   ]
  },
  {
   "cell_type": "code",
   "execution_count": 43,
   "metadata": {},
   "outputs": [
    {
     "name": "stderr",
     "output_type": "stream",
     "text": [
      "c:\\Users\\lroe3\\AppData\\Local\\Programs\\Python\\Python310\\lib\\site-packages\\sklearn\\metrics\\cluster\\_supervised.py:65: UserWarning: Clustering metrics expects discrete values but received continuous values for label, and binary values for target\n",
      "  warnings.warn(msg, UserWarning)\n",
      "c:\\Users\\lroe3\\AppData\\Local\\Programs\\Python\\Python310\\lib\\site-packages\\sklearn\\metrics\\cluster\\_supervised.py:65: UserWarning: Clustering metrics expects discrete values but received continuous values for label, and binary values for target\n",
      "  warnings.warn(msg, UserWarning)\n",
      "c:\\Users\\lroe3\\AppData\\Local\\Programs\\Python\\Python310\\lib\\site-packages\\sklearn\\metrics\\cluster\\_supervised.py:65: UserWarning: Clustering metrics expects discrete values but received continuous values for label, and binary values for target\n",
      "  warnings.warn(msg, UserWarning)\n",
      "c:\\Users\\lroe3\\AppData\\Local\\Programs\\Python\\Python310\\lib\\site-packages\\sklearn\\metrics\\cluster\\_supervised.py:65: UserWarning: Clustering metrics expects discrete values but received continuous values for label, and binary values for target\n",
      "  warnings.warn(msg, UserWarning)\n"
     ]
    },
    {
     "name": "stdout",
     "output_type": "stream",
     "text": [
      "KMeans - AAPL: Silhouette=0.3267231356065447, V-measure=0.1367675603434691, ARI=0.00033288845819545254, NMI=0.13676756034346912, AMI=0.056339709679159494\n"
     ]
    },
    {
     "name": "stderr",
     "output_type": "stream",
     "text": [
      "c:\\Users\\lroe3\\AppData\\Local\\Programs\\Python\\Python310\\lib\\site-packages\\sklearn\\metrics\\cluster\\_supervised.py:65: UserWarning: Clustering metrics expects discrete values but received continuous values for label, and multiclass values for target\n",
      "  warnings.warn(msg, UserWarning)\n",
      "c:\\Users\\lroe3\\AppData\\Local\\Programs\\Python\\Python310\\lib\\site-packages\\sklearn\\metrics\\cluster\\_supervised.py:65: UserWarning: Clustering metrics expects discrete values but received continuous values for label, and multiclass values for target\n",
      "  warnings.warn(msg, UserWarning)\n",
      "c:\\Users\\lroe3\\AppData\\Local\\Programs\\Python\\Python310\\lib\\site-packages\\sklearn\\metrics\\cluster\\_supervised.py:65: UserWarning: Clustering metrics expects discrete values but received continuous values for label, and multiclass values for target\n",
      "  warnings.warn(msg, UserWarning)\n",
      "c:\\Users\\lroe3\\AppData\\Local\\Programs\\Python\\Python310\\lib\\site-packages\\sklearn\\metrics\\cluster\\_supervised.py:65: UserWarning: Clustering metrics expects discrete values but received continuous values for label, and multiclass values for target\n",
      "  warnings.warn(msg, UserWarning)\n"
     ]
    },
    {
     "name": "stdout",
     "output_type": "stream",
     "text": [
      "HDBSCAN - AAPL: Silhouette=-0.036876328744232745, V-measure=0.41052435371244195, ARI=0.000577192883894681, NMI=0.41052435371244195, AMI=0.03975411144147575\n"
     ]
    },
    {
     "name": "stderr",
     "output_type": "stream",
     "text": [
      "c:\\Users\\lroe3\\AppData\\Local\\Programs\\Python\\Python310\\lib\\site-packages\\sklearn\\metrics\\cluster\\_supervised.py:65: UserWarning: Clustering metrics expects discrete values but received continuous values for label, and multiclass values for target\n",
      "  warnings.warn(msg, UserWarning)\n",
      "c:\\Users\\lroe3\\AppData\\Local\\Programs\\Python\\Python310\\lib\\site-packages\\sklearn\\metrics\\cluster\\_supervised.py:65: UserWarning: Clustering metrics expects discrete values but received continuous values for label, and multiclass values for target\n",
      "  warnings.warn(msg, UserWarning)\n",
      "c:\\Users\\lroe3\\AppData\\Local\\Programs\\Python\\Python310\\lib\\site-packages\\sklearn\\metrics\\cluster\\_supervised.py:65: UserWarning: Clustering metrics expects discrete values but received continuous values for label, and multiclass values for target\n",
      "  warnings.warn(msg, UserWarning)\n",
      "c:\\Users\\lroe3\\AppData\\Local\\Programs\\Python\\Python310\\lib\\site-packages\\sklearn\\metrics\\cluster\\_supervised.py:65: UserWarning: Clustering metrics expects discrete values but received continuous values for label, and multiclass values for target\n",
      "  warnings.warn(msg, UserWarning)\n"
     ]
    },
    {
     "name": "stdout",
     "output_type": "stream",
     "text": [
      "DBSCAN - AAPL: Silhouette=0.16776610791023275, V-measure=0.24188226746672153, ARI=0.0002435294815260172, NMI=0.2418822674667215, AMI=0.0321459427889916\n"
     ]
    },
    {
     "name": "stderr",
     "output_type": "stream",
     "text": [
      "c:\\Users\\lroe3\\AppData\\Local\\Programs\\Python\\Python310\\lib\\site-packages\\sklearn\\metrics\\cluster\\_supervised.py:65: UserWarning: Clustering metrics expects discrete values but received continuous values for label, and multiclass values for target\n",
      "  warnings.warn(msg, UserWarning)\n",
      "c:\\Users\\lroe3\\AppData\\Local\\Programs\\Python\\Python310\\lib\\site-packages\\sklearn\\metrics\\cluster\\_supervised.py:65: UserWarning: Clustering metrics expects discrete values but received continuous values for label, and multiclass values for target\n",
      "  warnings.warn(msg, UserWarning)\n",
      "c:\\Users\\lroe3\\AppData\\Local\\Programs\\Python\\Python310\\lib\\site-packages\\sklearn\\metrics\\cluster\\_supervised.py:65: UserWarning: Clustering metrics expects discrete values but received continuous values for label, and multiclass values for target\n",
      "  warnings.warn(msg, UserWarning)\n",
      "c:\\Users\\lroe3\\AppData\\Local\\Programs\\Python\\Python310\\lib\\site-packages\\sklearn\\metrics\\cluster\\_supervised.py:65: UserWarning: Clustering metrics expects discrete values but received continuous values for label, and multiclass values for target\n",
      "  warnings.warn(msg, UserWarning)\n"
     ]
    },
    {
     "name": "stdout",
     "output_type": "stream",
     "text": [
      "OPTICS - AAPL: Silhouette=-0.4621664904552028, V-measure=0.36939630006505064, ARI=-1.611485946750071e-06, NMI=0.3693963000650507, AMI=-2.9669746050205473e-05\n",
      "Bisecting KMeans - AAPL: Silhouette=0.3174148100277985, V-measure=0.12970170819897975, ARI=0.00028472057800784935, NMI=0.12970170819897975, AMI=0.04652114021469082\n"
     ]
    },
    {
     "name": "stderr",
     "output_type": "stream",
     "text": [
      "c:\\Users\\lroe3\\AppData\\Local\\Programs\\Python\\Python310\\lib\\site-packages\\sklearn\\metrics\\cluster\\_supervised.py:65: UserWarning: Clustering metrics expects discrete values but received continuous values for label, and binary values for target\n",
      "  warnings.warn(msg, UserWarning)\n",
      "c:\\Users\\lroe3\\AppData\\Local\\Programs\\Python\\Python310\\lib\\site-packages\\sklearn\\metrics\\cluster\\_supervised.py:65: UserWarning: Clustering metrics expects discrete values but received continuous values for label, and binary values for target\n",
      "  warnings.warn(msg, UserWarning)\n",
      "c:\\Users\\lroe3\\AppData\\Local\\Programs\\Python\\Python310\\lib\\site-packages\\sklearn\\metrics\\cluster\\_supervised.py:65: UserWarning: Clustering metrics expects discrete values but received continuous values for label, and binary values for target\n",
      "  warnings.warn(msg, UserWarning)\n",
      "c:\\Users\\lroe3\\AppData\\Local\\Programs\\Python\\Python310\\lib\\site-packages\\sklearn\\metrics\\cluster\\_supervised.py:65: UserWarning: Clustering metrics expects discrete values but received continuous values for label, and binary values for target\n",
      "  warnings.warn(msg, UserWarning)\n"
     ]
    }
   ],
   "source": [
    "labels_kmeans_aapl = do_kmeans(X_aapl_scaled, 2)\n",
    "silhouette, v_measure, ari, nmi, ami = evaluate_clustering(X_aapl_scaled, y_aapl, labels_kmeans_aapl)\n",
    "print(f\"KMeans - AAPL: Silhouette={silhouette}, V-measure={v_measure}, ARI={ari}, NMI={nmi}, AMI={ami}\")\n",
    "\n",
    "labels_hdbscan_aapl = do_hdbscan(X_aapl_scaled, 5)\n",
    "silhouette, v_measure, ari, nmi, ami = evaluate_clustering(X_aapl_scaled, y_aapl, labels_hdbscan_aapl)\n",
    "print(f\"HDBSCAN - AAPL: Silhouette={silhouette}, V-measure={v_measure}, ARI={ari}, NMI={nmi}, AMI={ami}\")\n",
    "\n",
    "labels_dbscan_aapl = do_dbscan(X_aapl_scaled, 0.5, 5)\n",
    "silhouette, v_measure, ari, nmi, ami = evaluate_clustering(X_aapl_scaled, y_aapl, labels_dbscan_aapl)\n",
    "print(f\"DBSCAN - AAPL: Silhouette={silhouette}, V-measure={v_measure}, ARI={ari}, NMI={nmi}, AMI={ami}\")\n",
    "\n",
    "labels_optics_aapl = do_optics(X_aapl_scaled, 5, 0.05)\n",
    "silhouette, v_measure, ari, nmi, ami = evaluate_clustering(X_aapl_scaled, y_aapl, labels_optics_aapl)\n",
    "print(f\"OPTICS - AAPL: Silhouette={silhouette}, V-measure={v_measure}, ARI={ari}, NMI={nmi}, AMI={ami}\")\n",
    "\n",
    "labels_bisecting_kmeans_aapl = do_bisecting_kmeans(X_aapl_scaled, 2)\n",
    "silhouette, v_measure, ari, nmi, ami = evaluate_clustering(X_aapl_scaled, y_aapl, labels_bisecting_kmeans_aapl)\n",
    "print(f\"Bisecting KMeans - AAPL: Silhouette={silhouette}, V-measure={v_measure}, ARI={ari}, NMI={nmi}, AMI={ami}\")\n",
    "\n"
   ]
  }
 ],
 "metadata": {
  "kernelspec": {
   "display_name": "Python 3",
   "language": "python",
   "name": "python3"
  },
  "language_info": {
   "codemirror_mode": {
    "name": "ipython",
    "version": 3
   },
   "file_extension": ".py",
   "mimetype": "text/x-python",
   "name": "python",
   "nbconvert_exporter": "python",
   "pygments_lexer": "ipython3",
   "version": "3.10.2"
  }
 },
 "nbformat": 4,
 "nbformat_minor": 2
}
