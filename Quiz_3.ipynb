{
 "cells": [
  {
   "cell_type": "markdown",
   "metadata": {},
   "source": [
    "## 1)"
   ]
  },
  {
   "cell_type": "code",
   "execution_count": null,
   "metadata": {},
   "outputs": [],
   "source": [
    "from google.colab import drive\n",
    "drive.mount('/content/drive')"
   ]
  },
  {
   "cell_type": "markdown",
   "metadata": {},
   "source": [
    "## 2)"
   ]
  },
  {
   "cell_type": "markdown",
   "metadata": {},
   "source": [
    "The way to to convert an input data X to corresponding nonnegative data is to use scaling. To ensure that it is nonnegative, a good scalar to use is the MinMaxScalar because it transforms the data [0,1]. "
   ]
  },
  {
   "cell_type": "markdown",
   "metadata": {},
   "source": [
    "#### Example"
   ]
  },
  {
   "cell_type": "code",
   "execution_count": null,
   "metadata": {},
   "outputs": [],
   "source": [
    "from sklearn.preprocessing import MinMaxScaler\n",
    "X = [[1, 2, 3, 4, 5, 6, 7, 8, 9, 10]]\n",
    "scaler_minmax = MinMaxScaler()\n",
    "X_minmax = scaler_minmax.fit_transform(X)\n",
    "print(X_minmax)"
   ]
  },
  {
   "cell_type": "markdown",
   "metadata": {},
   "source": [
    "## 3)"
   ]
  },
  {
   "cell_type": "markdown",
   "metadata": {},
   "source": [
    "SVD, singular-value decomposition is the factorization of some matrix, A, into its product matrices, USV^t. In these product matrices, U is an orthogonal matrix whose columns are the left singular vectors. S is a diagonal matrix of singular values. Finally, V^t's columns for the basis for the row space of A. It can be used for image compression by approximating the original image by dropping the singular values, decreasing the size of the image while maintaining an approximation. Basically, it simplifies the noise from the image."
   ]
  },
  {
   "cell_type": "markdown",
   "metadata": {},
   "source": [
    "## 4)"
   ]
  },
  {
   "cell_type": "code",
   "execution_count": 15,
   "metadata": {},
   "outputs": [],
   "source": [
    "import numpy as np\n",
    "\n",
    "def VCR(data):\n",
    "    U, s, V = np.linalg.svd(data)\n",
    "    vcr = s[0] / np.sum(s)\n",
    "\n",
    "    return vcr"
   ]
  },
  {
   "cell_type": "code",
   "execution_count": 3,
   "metadata": {},
   "outputs": [
    {
     "name": "stdout",
     "output_type": "stream",
     "text": [
      "Matrix C:\n",
      " [[ 3.00000000e-01  7.00000000e-01  1.00000000e+00]\n",
      " [ 4.80000000e+00  7.40000000e+00  6.04000000e+00]\n",
      " [-5.70000000e+00 -3.33066907e-16  1.58600000e+01]]\n",
      "VCR of C: 0.6486611716159791\n"
     ]
    }
   ],
   "source": [
    "A = np.array([[1, 0], [8, 2], [9, -7]])  \n",
    "\n",
    "B = np.array([[0.3, 0.7, 1], [1.2, 0.9, -0.98]])  \n",
    "\n",
    "\n",
    "C = np.dot(A, B)  \n",
    "VCR = VCR(C) \n",
    "\n",
    "print(\"Matrix C:\\n\", C)\n",
    "print(\"VCR of C:\", VCR)"
   ]
  },
  {
   "cell_type": "markdown",
   "metadata": {},
   "source": [
    "## 5)"
   ]
  },
  {
   "cell_type": "code",
   "execution_count": 5,
   "metadata": {},
   "outputs": [],
   "source": [
    "from sklearn.datasets import load_iris\n",
    "from sklearn.preprocessing import StandardScaler, MinMaxScaler"
   ]
  },
  {
   "cell_type": "code",
   "execution_count": 21,
   "metadata": {},
   "outputs": [
    {
     "name": "stdout",
     "output_type": "stream",
     "text": [
      "VCR of Iris data with Standard Scaler: 0.5352971788236239\n",
      "VCR of Iris data with MinMax Scaler: 0.6800299414919467\n"
     ]
    }
   ],
   "source": [
    "iris = load_iris()\n",
    "X = iris.data\n",
    "\n",
    "scaler_standard = StandardScaler()\n",
    "X_standard = scaler_standard.fit_transform(X)\n",
    "\n",
    "scaler_minmax = MinMaxScaler()\n",
    "X_minmax = scaler_minmax.fit_transform(X)\n",
    "\n",
    "\n",
    "VCR_standard = VCR(X_standard)\n",
    "print(\"VCR of Iris data with Standard Scaler:\", VCR_standard)\n",
    "\n",
    "\n",
    "VCR_minmax = VCR(X_minmax)\n",
    "print(\"VCR of Iris data with MinMax Scaler:\", VCR_minmax)"
   ]
  }
 ],
 "metadata": {
  "kernelspec": {
   "display_name": "Python 3",
   "language": "python",
   "name": "python3"
  },
  "language_info": {
   "codemirror_mode": {
    "name": "ipython",
    "version": 3
   },
   "file_extension": ".py",
   "mimetype": "text/x-python",
   "name": "python",
   "nbconvert_exporter": "python",
   "pygments_lexer": "ipython3",
   "version": "3.10.2"
  }
 },
 "nbformat": 4,
 "nbformat_minor": 2
}
