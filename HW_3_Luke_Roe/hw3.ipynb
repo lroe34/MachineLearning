{
 "cells": [
  {
   "cell_type": "code",
   "execution_count": 21,
   "metadata": {},
   "outputs": [],
   "source": [
    "import numpy as np\n",
    "import pandas as pd\n",
    "import matplotlib.pyplot as plt\n",
    "from sklearn.model_selection import train_test_split\n",
    "\n",
    "from sklearn.preprocessing import StandardScaler, MinMaxScaler, RobustScaler, MaxAbsScaler\n",
    "\n",
    "from sklearn.metrics import confusion_matrix\n",
    "from sklearn.model_selection import KFold\n",
    "from sklearn.neighbors import KNeighborsClassifier\n",
    "from sklearn.utils import shuffle\n",
    "from sklearn.metrics import roc_curve, auc\n",
    "from sklearn.metrics import average_precision_score, accuracy_score"
   ]
  },
  {
   "cell_type": "code",
   "execution_count": 2,
   "metadata": {},
   "outputs": [],
   "source": [
    "data = pd.read_csv('credit_data_simulate.csv')"
   ]
  },
  {
   "cell_type": "code",
   "execution_count": 3,
   "metadata": {},
   "outputs": [],
   "source": [
    "class CreditData:\n",
    "    def __init__(self, data):\n",
    "        self.data = data\n",
    "\n",
    "    def split_data(self, test_size=0.2):\n",
    "        return train_test_split(self.data, test_size=test_size)\n",
    "    \n",
    "    \n",
    "\n",
    "    def k_fold(self, k=10):\n",
    "        self.data = shuffle(self.data)\n",
    "        \n",
    "        X = self.data.iloc[:, :-1].values\n",
    "        y = self.data.iloc[:, -1].values\n",
    "        kf = KFold(n_splits=k, shuffle=False)\n",
    "        folds = []\n",
    "        for train_index, test_index in kf.split(X):\n",
    "            X_train, X_test = X[train_index], X[test_index]\n",
    "            y_train, y_test = y[train_index], y[test_index]\n",
    "            folds.append(((X_train, y_train), (X_test, y_test)))\n",
    "        return folds\n",
    "        \n",
    "    def normalize(self, scaler):\n",
    "        X = self.data.iloc[:, 0:-1]\n",
    "        y = self.data.iloc[:, -1]\n",
    "        X = scaler.fit_transform(X)\n",
    "        return X, y\n",
    "    \n",
    "    def knn(self, X_train, y_train, X_test, y_test, k=5, metric='minkowski'):\n",
    "        knn = KNeighborsClassifier(n_neighbors=k, metric=metric, p=2)\n",
    "        if metric == 'seuclidean':\n",
    "            V = np.var(X_train, axis=0)\n",
    "            knn = KNeighborsClassifier(n_neighbors=k, metric=metric, metric_params={'V': V})\n",
    "        knn.fit(X_train, y_train)\n",
    "        y_pred = knn.predict(X_test)\n",
    "        y_pred_proba = knn.predict_proba(X_test)[:, 1]  # Get probabilities for the positive class\n",
    "        cm = confusion_matrix(y_test, y_pred)\n",
    "        return cm, y_pred_proba\n",
    "\n",
    "    def plot_confusion_matrix(self, cm):\n",
    "        plt.imshow(cm, interpolation='nearest', cmap=plt.cm.Blues)\n",
    "        plt.title('Confusion matrix')\n",
    "        plt.colorbar()\n",
    "        plt.show()\n",
    "    \n",
    "    def get_metrics(self, y_test, y_pred_proba, cm):\n",
    "        tn, fp, fn, tp = cm.ravel()\n",
    "        accuracy = (tp + tn) / (tp + tn + fp + fn)\n",
    "        precision = tp / (tp + fp)\n",
    "        recall = tp / (tp + fn)\n",
    "        f1 = 2 * (precision * recall) / (precision + recall)\n",
    "        fpr, tpr, thresholds = roc_curve(y_test, y_pred_proba)\n",
    "        roc_auc = auc(fpr, tpr)\n",
    "        auprc = average_precision_score(y_test, y_pred_proba)\n",
    "        d_index = np.log2(1+accuracy) + np.log2(1 + ((recall + precision)/2))\n",
    "        return [accuracy, precision, recall, f1, d_index, roc_auc, fpr, tpr, auprc]\n",
    "\n"
   ]
  },
  {
   "cell_type": "code",
   "execution_count": null,
   "metadata": {},
   "outputs": [],
   "source": [
    "credit_data = CreditData(data)\n",
    "folds = credit_data.k_fold(k=10)\n",
    "scalers = [StandardScaler(), MinMaxScaler(), RobustScaler(), MaxAbsScaler()]\n",
    "for scaler in scalers:\n",
    "    print(scaler)\n",
    "    for fold in folds:\n",
    "        (X_train, y_train), (X_test, y_test) = fold\n",
    "        X_train_scaled = scaler.fit_transform(X_train)\n",
    "        X_test_scaled = scaler.transform(X_test)\n",
    "        cm, y_pred_proba = credit_data.knn(X_train_scaled, y_train, X_test_scaled, y_test, k=5, metric='correlation')\n",
    "        credit_data.plot_confusion_matrix(cm)\n",
    "        metrics = credit_data.get_metrics(y_test, y_pred_proba, cm)\n",
    "        print(metrics)\n",
    "    \n",
    "    # also do train test split\n",
    "    X_train, X_test, y_train, y_test = credit_data.split_data()\n",
    "    X_train_scaled = scaler.fit_transform(X_train)\n",
    "    X_test_scaled = scaler.transform(X_test)\n",
    "    cm, y_pred_proba = credit_data.knn(X_train_scaled, y_train, X_test_scaled, y_test, k=5, metric='correlation')\n",
    "    credit_data.plot_confusion_matrix(cm)\n",
    "    metrics = credit_data.get_metrics(y_test, y_pred_proba, cm)\n",
    "    print(metrics)\n"
   ]
  },
  {
   "cell_type": "code",
   "execution_count": 5,
   "metadata": {},
   "outputs": [],
   "source": [
    "# import data and clean by removing all rows with missing values\n",
    "data = pd.read_csv('PM2.5_Beijing_2010_2014.csv')\n",
    "data = data.dropna()\n",
    "\n",
    "#  save as clean_pm2.5_data.csv\n",
    "data.to_csv('clean_pm2.5_data.csv', index=False)"
   ]
  },
  {
   "cell_type": "code",
   "execution_count": 6,
   "metadata": {},
   "outputs": [],
   "source": [
    "# convert cbwd column to numerical values\n",
    "data = pd.read_csv('clean_pm2.5_data.csv')\n",
    "data['cbwd'] = data['cbwd'].astype('category')\n",
    "data['cbwd'] = data['cbwd'].cat.codes\n",
    "data.to_csv('clean_pm2.5_data.csv', index=False)"
   ]
  },
  {
   "cell_type": "code",
   "execution_count": 12,
   "metadata": {},
   "outputs": [],
   "source": [
    "# cluster with bisecting kmeans\n",
    "# split data by year\n",
    "from sklearn.cluster import KMeans\n",
    "\n",
    "data = pd.read_csv('clean_pm2.5_data.csv')\n",
    "data = data.drop(columns=['No'])\n",
    "data_2010 = data[data['year'] == 2010]\n",
    "data_2011 = data[data['year'] == 2011]\n",
    "data_2012 = data[data['year'] == 2012]\n",
    "data_2013 = data[data['year'] == 2013]\n",
    "data_2014 = data[data['year'] == 2014]\n",
    "\n",
    "# cluster pm2.5 for each year\n",
    "\n",
    "data_2010 = data_2010.drop(columns=['year', 'Is', 'Ir'])\n",
    "data_2011 = data_2011.drop(columns=['year', 'Is', 'Ir'])\n",
    "data_2012 = data_2012.drop(columns=['year', 'Is', 'Ir'])\n",
    "data_2013 = data_2013.drop(columns=['year', 'Is', 'Ir'])\n",
    "data_2014 = data_2014.drop(columns=['year', 'Is', 'Ir'])\n",
    "\n",
    "\n",
    "data_2010_scaled = StandardScaler().fit_transform(data_2010)\n",
    "data_2011_scaled = StandardScaler().fit_transform(data_2011)\n",
    "data_2012_scaled = StandardScaler().fit_transform(data_2012)\n",
    "data_2013_scaled = StandardScaler().fit_transform(data_2013)\n",
    "data_2014_scaled = StandardScaler().fit_transform(data_2014)\n",
    "\n"
   ]
  },
  {
   "cell_type": "code",
   "execution_count": 16,
   "metadata": {},
   "outputs": [],
   "source": [
    "data_2010_scaled = pd.DataFrame(data_2010_scaled, columns=data_2010.columns)\n",
    "data_2011_scaled = pd.DataFrame(data_2011_scaled, columns=data_2011.columns)\n",
    "data_2012_scaled = pd.DataFrame(data_2012_scaled, columns=data_2012.columns)\n",
    "data_2013_scaled = pd.DataFrame(data_2013_scaled, columns=data_2013.columns)\n",
    "data_2014_scaled = pd.DataFrame(data_2014_scaled, columns=data_2014.columns)"
   ]
  },
  {
   "cell_type": "code",
   "execution_count": 17,
   "metadata": {},
   "outputs": [],
   "source": [
    "# y should be the pm2.5 column\n",
    "data_2010_y = data_2010_scaled['pm2.5']\n",
    "data_2011_y = data_2011_scaled['pm2.5']\n",
    "data_2012_y = data_2012_scaled['pm2.5']\n",
    "data_2013_y = data_2013_scaled['pm2.5']\n",
    "data_2014_y = data_2014_scaled['pm2.5']\n",
    "\n",
    "data_2010_X = data_2010_scaled.drop(columns=['pm2.5'])\n",
    "data_2011_X = data_2011_scaled.drop(columns=['pm2.5'])\n",
    "data_2012_X = data_2012_scaled.drop(columns=['pm2.5'])\n",
    "data_2013_X = data_2013_scaled.drop(columns=['pm2.5'])\n",
    "data_2014_X = data_2014_scaled.drop(columns=['pm2.5'])\n",
    "\n"
   ]
  },
  {
   "cell_type": "code",
   "execution_count": 30,
   "metadata": {},
   "outputs": [],
   "source": [
    "# change y to categorical. should be three classes, low, medium, high based on quantiles\n",
    "data_2010_y = pd.qcut(data_2010_y, q=3, labels=['low', 'medium', 'high'])\n",
    "data_2011_y = pd.qcut(data_2011_y, q=3, labels=['low', 'medium', 'high'])\n",
    "data_2012_y = pd.qcut(data_2012_y, q=3, labels=['low', 'medium', 'high'])\n",
    "data_2013_y = pd.qcut(data_2013_y, q=3, labels=['low', 'medium', 'high'])\n",
    "data_2014_y = pd.qcut(data_2014_y, q=3, labels=['low', 'medium', 'high'])"
   ]
  },
  {
   "cell_type": "code",
   "execution_count": 34,
   "metadata": {},
   "outputs": [
    {
     "name": "stdout",
     "output_type": "stream",
     "text": [
      "low       2718\n",
      "medium    2708\n",
      "high      2665\n",
      "Name: pm2.5, dtype: int64\n"
     ]
    }
   ],
   "source": [
    "print(data_2010_y.value_counts())"
   ]
  },
  {
   "cell_type": "code",
   "execution_count": 18,
   "metadata": {},
   "outputs": [],
   "source": [
    "data_2010_X = data_2010_X.values\n",
    "data_2011_X = data_2011_X.values\n",
    "data_2012_X = data_2012_X.values\n",
    "data_2013_X = data_2013_X.values\n",
    "data_2014_X = data_2014_X.values"
   ]
  },
  {
   "cell_type": "code",
   "execution_count": 31,
   "metadata": {},
   "outputs": [],
   "source": [
    "def do_kmeans(X, y):\n",
    "    kmeans = KMeans(n_clusters=2, random_state=0).fit(X)\n",
    "    y_pred = kmeans.predict(X)\n",
    "    accuracy = accuracy_score(y, y_pred)\n",
    "    return kmeans, accuracy"
   ]
  },
  {
   "cell_type": "code",
   "execution_count": 33,
   "metadata": {},
   "outputs": [
    {
     "name": "stdout",
     "output_type": "stream",
     "text": [
      "2010\n",
      "0.0\n",
      "2011\n",
      "0.0\n",
      "2012\n",
      "0.0\n",
      "2013\n",
      "0.0\n",
      "2014\n",
      "0.0\n"
     ]
    }
   ],
   "source": [
    "kmeans, accuracy = do_kmeans(data_2010_X, data_2010_y)\n",
    "print(accuracy)"
   ]
  }
 ],
 "metadata": {
  "kernelspec": {
   "display_name": "Python 3",
   "language": "python",
   "name": "python3"
  },
  "language_info": {
   "codemirror_mode": {
    "name": "ipython",
    "version": 3
   },
   "file_extension": ".py",
   "mimetype": "text/x-python",
   "name": "python",
   "nbconvert_exporter": "python",
   "pygments_lexer": "ipython3",
   "version": "3.11.4"
  }
 },
 "nbformat": 4,
 "nbformat_minor": 2
}
